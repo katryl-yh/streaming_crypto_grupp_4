{
 "cells": [
  {
   "cell_type": "markdown",
   "metadata": {},
   "source": [
    "## Exploration of endpoints"
   ]
  },
  {
   "cell_type": "code",
   "execution_count": 1,
   "metadata": {},
   "outputs": [
    {
     "name": "stdout",
     "output_type": "stream",
     "text": [
      "       id      name symbol      slug  num_market_pairs  \\\n",
      "BTC     1   Bitcoin    BTC   bitcoin             11940   \n",
      "ETH  1027  Ethereum    ETH  ethereum              9931   \n",
      "XRP    52       XRP    XRP       xrp              1529   \n",
      "\n",
      "                   date_added  \\\n",
      "BTC  2010-07-13T00:00:00.000Z   \n",
      "ETH  2015-08-07T00:00:00.000Z   \n",
      "XRP  2013-08-04T00:00:00.000Z   \n",
      "\n",
      "                                                  tags    max_supply  \\\n",
      "BTC  [mineable, pow, sha-256, store-of-value, state...  2.100000e+07   \n",
      "ETH  [pos, smart-contracts, ethereum-ecosystem, coi...           NaN   \n",
      "XRP  [medium-of-exchange, enterprise-solutions, xrp...  1.000000e+11   \n",
      "\n",
      "     circulating_supply  total_supply  is_active  infinite_supply platform  \\\n",
      "BTC        1.982371e+07  1.982371e+07          1            False     None   \n",
      "ETH        1.205454e+08  1.205454e+08          1             True     None   \n",
      "XRP        5.776255e+10  9.998650e+10          1            False     None   \n",
      "\n",
      "     cmc_rank  is_fiat self_reported_circulating_supply  \\\n",
      "BTC         1        0                             None   \n",
      "ETH         2        0                             None   \n",
      "XRP         4        0                             None   \n",
      "\n",
      "    self_reported_market_cap tvl_ratio              last_updated  \\\n",
      "BTC                     None      None  2025-02-13T15:17:00.000Z   \n",
      "ETH                     None      None  2025-02-13T15:17:00.000Z   \n",
      "XRP                     None      None  2025-02-13T15:18:00.000Z   \n",
      "\n",
      "                                                 quote  \n",
      "BTC  {'USD': {'price': 96170.69951100998, 'volume_2...  \n",
      "ETH  {'USD': {'price': 2650.2429249404418, 'volume_...  \n",
      "XRP  {'USD': {'price': 2.436973720078733, 'volume_2...  \n"
     ]
    }
   ],
   "source": [
    "import requests\n",
    "import pandas as pd\n",
    "\n",
    "API_KEY = \"983b7a7a-090e-4580-8b4b-73d427bb6870\"\n",
    "HEADERS = {\"X-CMC_PRO_API_KEY\": API_KEY}\n",
    "BASE_URL = \"https://pro-api.coinmarketcap.com\"\n",
    "\n",
    "quotes_url = f\"{BASE_URL}/v1/cryptocurrency/quotes/latest\"\n",
    "params = {\"symbol\": \"BTC,ETH,XRP\"}  \n",
    "response = requests.get(quotes_url, headers=HEADERS, params=params)\n",
    "\n",
    "if response.status_code == 200:\n",
    "    data = response.json()\n",
    "    df = pd.DataFrame.from_dict(data[\"data\"], orient=\"index\")\n",
    "    print(df.head())\n",
    "else:\n",
    "    print(\"Error fetching data:\", response.status_code)"
   ]
  }
 ],
 "metadata": {
  "kernelspec": {
   "display_name": ".venv",
   "language": "python",
   "name": "python3"
  },
  "language_info": {
   "codemirror_mode": {
    "name": "ipython",
    "version": 3
   },
   "file_extension": ".py",
   "mimetype": "text/x-python",
   "name": "python",
   "nbconvert_exporter": "python",
   "pygments_lexer": "ipython3",
   "version": "3.12.6"
  }
 },
 "nbformat": 4,
 "nbformat_minor": 2
}
